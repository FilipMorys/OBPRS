{
 "cells": [
  {
   "cell_type": "code",
   "execution_count": null,
   "metadata": {},
   "outputs": [],
   "source": [
    "library(ppcor)\n",
    "#install.packages('lmPerm')\n",
    "#library(lmPerm)\n",
    "library(psych)\n",
    "library(car)\n",
    "library(ggplot2)\n",
    "library(lme4)\n",
    "#library(mediation)\n",
    "#install.packages('caret')\n",
    "library(caret)\n",
    "library(dplyr)\n",
    "#library(mediation)\n",
    "#library(lavaan)\n",
    "#install.packages('MissMech')\n",
    "#library(semTools)\n",
    "#library(MissMech)\n",
    "#install.packages('fsbrain')\n",
    "#install.packages('ipw')\n",
    "#install.packages('episensr')\n",
    "#install.packages('measurements')\n",
    "library(tidyr)\n",
    "#library(optimx)\n",
    "#install.packages('R.matlab')\n",
    "#library(devtools)\n",
    "library(R.matlab)\n",
    "library(lmPerm)\n",
    "library('childsds')\n"
   ]
  },
  {
   "cell_type": "markdown",
   "metadata": {},
   "source": [
    "# Set up PING data"
   ]
  },
  {
   "cell_type": "code",
   "execution_count": null,
   "metadata": {},
   "outputs": [],
   "source": [
    "Brain_data <- readMat('/dagher/dagher11/filip/PING//CT_SA_CV_922_DKT_subjs.mat')"
   ]
  },
  {
   "cell_type": "code",
   "execution_count": null,
   "metadata": {},
   "outputs": [],
   "source": [
    "brain_structs=c('caudalmiddlefrontal.l','entorhinal.l','postcentral.l','parstriangularis.l','supramarginal.l',\n",
    "                'middlefilling.l','insula.l','lateralorbitofrontal.l','parsorbitalis.l','middletemporal.l',\n",
    "                'pericalcarine.l','parahippocampal.l','paracentral.l','medialorbitofrontal.l','cuneus.l',\n",
    "                'inferiortemporal.l','rostralmiddlefrontal.l','rostralanteriorcingulate.l','isthmuscingulate.l',\n",
    "                'lateraloccipital.l','lingual.l','superiorparietal.l','parsopercularis.l','fusiform.l',\n",
    "                'caudalanteriorcingulate.l','superiorfrontal.l','precuneus.l','transversetemporal.l','precentral.l',\n",
    "                'inferiorparietal.l','posteriorcingulate.l','superiortemporal.l',\n",
    "                'caudalmiddlefrontal.r','entorhinal.r','postcentral.r','parstriangularis.r','supramarginal.r',\n",
    "                'middlefilling.r','insula.r','lateralorbitofrontal.r','parsorbitalis.r','middletemporal.r',\n",
    "                'pericalcarine.r','parahippocampal.r','paracentral.r','medialorbitofrontal.r','cuneus.r',\n",
    "                'inferiortemporal.r','rostralmiddlefrontal.r','rostralanteriorcingulate.r','isthmuscingulate.r',\n",
    "                'lateraloccipital.r','lingual.r','superiorparietal.r','parsopercularis.r','fusiform.r',\n",
    "                'caudalanteriorcingulate.r','superiorfrontal.r','precuneus.r','transversetemporal.r','precentral.r',\n",
    "                'inferiorparietal.r','posteriorcingulate.r','superiortemporal.r')\n",
    "\n",
    "brain_structs_vol=c('caudalmiddlefrontal.lv','entorhinal.lv','postcentral.lv','parstriangularis.lv','supramarginal.lv',\n",
    "                'middlefilling.lv','insula.lv','lateralorbitofrontal.lv','parsorbitalis.lv','middletemporal.lv',\n",
    "                'pericalcarine.lv','parahippocampal.lv','paracentral.lv','medialorbitofrontal.lv','cuneus.lv',\n",
    "                'inferiortemporal.lv','rostralmiddlefrontal.lv','rostralanteriorcingulate.lv','isthmuscingulate.lv',\n",
    "                'lateralccipital.lv','lingual.lv','superiorparietal.lv','parsopercularis.lv','fusiform.lv',\n",
    "                'caudalanteriorcingulate.lv','superiorfrontal.lv','precuneus.lv','transversetemporal.lv','precentral.lv',\n",
    "                'inferiorparietal.lv','posteriorcingulate.lv','superiortemporal.lv',\n",
    "                'caudalmiddlefrontal.rv','entorhinal.rv','postcentral.rv','parstriangularis.rv','supramarginal.rv',\n",
    "                'middlefilling.rv','insula.rv','lateralorbitofrontal.rv','parsorbitalis.rv','middletemporal.rv',\n",
    "                'pericalcarine.rv','parahippocampal.rv','paracentral.rv','medialorbitofrontal.rv','cuneus.rv',\n",
    "                'inferiortemporal.rv','rostralmiddlefrontal.rv','rostralanteriorcingulate.rv','isthmuscingulate.rv',\n",
    "                'lateraloccipital.rv','lingual.rv','superiorparietal.rv','parsopercularis.rv','fusiform.rv',\n",
    "                'caudalanteriorcingulate.rv','superiorfrontal.rv','precuneus.rv','transversetemporal.rv','precentral.rv',\n",
    "                'inferiorparietal.rv','posteriorcingulate.rv','superiortemporal.rv')\n",
    "\n",
    "brain_names=c(brain_structs,brain_structs_vol)"
   ]
  },
  {
   "cell_type": "code",
   "execution_count": null,
   "metadata": {},
   "outputs": [],
   "source": [
    "CT=data.frame(Brain_data$ct)\n",
    "CV=data.frame(Brain_data$cv)\n",
    "colnames(CT)=brain_structs\n",
    "colnames(CV)=brain_structs_vol"
   ]
  },
  {
   "cell_type": "code",
   "execution_count": null,
   "metadata": {},
   "outputs": [],
   "source": [
    "Beh_data=read.table('/dagher/dagher11/filip/PING/PING_Behavior_All.csv',sep=',',skip=1)\n",
    "Beh_data_cols=read.table('/dagher/dagher11/filip/PING/PING_Behavior_All.csv',sep=',')[1,]\n",
    "colnames(Beh_data)=unlist(Beh_data_cols)\n",
    "Beh_data$SubjID=as.numeric(gsub('P','',Beh_data$SubjID))"
   ]
  },
  {
   "cell_type": "code",
   "execution_count": null,
   "metadata": {},
   "outputs": [],
   "source": [
    "FA=read.table('/dagher/dagher11/filip/PING/usercache_PING_nalsharif.csv',sep=',',quote='\"',header=T)\n",
    "FA$SubjID=as.numeric(gsub('P','',FA$SubjID))"
   ]
  },
  {
   "cell_type": "code",
   "execution_count": null,
   "metadata": {},
   "outputs": [],
   "source": [
    "Brain=data.frame(Brain_data$subj.922,CT,CV)\n",
    "All_data=merge(Brain,FA,by.x='Brain_data.subj.922',by.y='SubjID',all.x=T)\n",
    "All_data=All_data[!duplicated(All_data$Brain_data.subj.922),]"
   ]
  },
  {
   "cell_type": "code",
   "execution_count": null,
   "metadata": {},
   "outputs": [],
   "source": [
    "nrow(All_data)"
   ]
  },
  {
   "cell_type": "code",
   "execution_count": null,
   "metadata": {},
   "outputs": [],
   "source": [
    "All_data=All_data[ All_data$FDH_2_White=='Yes', ]"
   ]
  },
  {
   "cell_type": "markdown",
   "metadata": {},
   "source": [
    "# Set up ABCD data"
   ]
  },
  {
   "cell_type": "code",
   "execution_count": null,
   "metadata": {},
   "outputs": [],
   "source": [
    "ABCD=read.table('/dagher/dagher11/filip/PRSOB/data/ABCD_base_fup1_long.csv',sep=',',dec='.', header=T)"
   ]
  },
  {
   "cell_type": "markdown",
   "metadata": {},
   "source": [
    "## Remove duplicates"
   ]
  },
  {
   "cell_type": "code",
   "execution_count": null,
   "metadata": {},
   "outputs": [],
   "source": [
    "ABCD=ABCD[!duplicated(ABCD$subjectkey),]"
   ]
  },
  {
   "cell_type": "code",
   "execution_count": null,
   "metadata": {},
   "outputs": [],
   "source": [
    "ABCD=subset(ABCD, ABCD$demo_race_a_p___10==1)"
   ]
  },
  {
   "cell_type": "markdown",
   "metadata": {},
   "source": [
    "## Remove all participants who failed WM QC for all sample consistency"
   ]
  },
  {
   "cell_type": "code",
   "execution_count": null,
   "metadata": {},
   "outputs": [],
   "source": [
    "ABCD=subset(ABCD, ABCD$dmri_dti_postqc_qc==1 | is.na(ABCD$dmri_dti_postqc_qc))"
   ]
  },
  {
   "cell_type": "code",
   "execution_count": null,
   "metadata": {},
   "outputs": [],
   "source": [
    "ABCD=ABCD[complete.cases(ABCD$H_dmri_dtifa_fiberat_fxrh),]"
   ]
  },
  {
   "cell_type": "code",
   "execution_count": null,
   "metadata": {},
   "outputs": [],
   "source": [
    "PCs=read.table('/dagher/dagher11/filip/Downloads/ABCD_pre-impute.eigenvec', header=T)\n",
    "ABCD=merge(ABCD, PCs, by.x='subjectkey', by.y='IID', all.x=T)\n",
    "new_PRS=read.table('/dagher/dagher11/filip/Downloads/BMI_PRS_new.csv', header=T, sep=',')\n",
    "colnames(new_PRS)=c( 'X', 'FID' ,'IID' ,'PRS', 'Z_UKB')\n",
    "ABCD=merge(ABCD, new_PRS, by.x='subjectkey', by.y='IID', all.x=T)\n",
    "ABCD$Z_corr=resid(lm(Z ~ PC1 + PC2 + PC3 + PC4 + PC5 + PC6 + PC7 + Pc8 + PC9 + PC10 + PC11 + PC12 + PC13 +\n",
    "                     PC14 + PC15 + PC16 + PC17 + PC18 + PC19 + PC20 + site_id_l, \n",
    "                     data=ABCD, na.action=na.exclude))\n",
    "ABCD$Z_corr_UKB=resid(lm(Z_UKB ~ PC1 + PC2 + PC3 + PC4 + PC5 + PC6 + PC7 + Pc8 + PC9 + PC10 + PC11 + PC12 + PC13 +\n",
    "                     PC14 + PC15 + PC16 + PC17 + PC18 + PC19 + PC20 + site_id_l, \n",
    "                     data=ABCD, na.action=na.exclude))"
   ]
  },
  {
   "cell_type": "markdown",
   "metadata": {},
   "source": [
    "## Read in raw data"
   ]
  },
  {
   "cell_type": "code",
   "execution_count": null,
   "metadata": {},
   "outputs": [],
   "source": [
    "hdr <- read.table('/export01/data/fmorys/ABCD30/abcd_smrip101.txt', sep='\\t',header=T, quote='\"', stringsAsFactors = FALSE)\n",
    "smri1 <- read.table('/export01/data/fmorys/ABCD30/abcd_smrip101.txt', sep='\\t',header=F, quote='\"', skip = 2)\n",
    "colnames( smri1 ) <- colnames(hdr)\n",
    "\n",
    "hdr <- read.table('/export01/data/fmorys/ABCD30/abcd_smrip201.txt', sep='\\t',header=T, quote='\"', stringsAsFactors = FALSE)\n",
    "smri2 <- read.table('/export01/data/fmorys/ABCD30/abcd_smrip201.txt', sep='\\t',header=F, quote='\"', skip = 2)\n",
    "colnames( smri2 ) <- colnames(hdr)\n",
    "\n",
    "hdr <- read.table('/export01/data/fmorys/ABCD30/abcd_dti_p101.txt', sep='\\t',header=T, quote='\"', stringsAsFactors = FALSE)\n",
    "dti <- read.table('/export01/data/fmorys/ABCD30/abcd_dti_p101.txt', sep='\\t',header=F, quote='\"', skip = 2)\n",
    "colnames( dti ) <- colnames(hdr)\n",
    "dti=subset(dti, select=-c(dataset_id, interview_date, collection_id, src_subject_id)) #Remove unnecessary columns for quicker merging further on\n",
    "\n",
    "\n",
    "mri_all=merge(smri1, smri2)\n",
    "mri_all=merge(mri_all, dti)\n",
    "\n",
    "mri_all=mri_all[mri_all$eventname=='baseline_year_1_arm_1',]\n",
    "#mri_all=subset(mri_all, select=c(subjectkey, smri_vol_scs_cbwmatterlh, smri_vol_scs_cbwmatterrh,\n",
    "#                            smri_vol_cdk_total, smri_vol_scs_subcorticalgv, smri_vol_scs_allventricles)) #Remove unnecessary columns for quicker merging further on"
   ]
  },
  {
   "cell_type": "code",
   "execution_count": null,
   "metadata": {},
   "outputs": [],
   "source": [
    "sbj=dplyr::select(ABCD, subjectkey)"
   ]
  },
  {
   "cell_type": "code",
   "execution_count": null,
   "metadata": {},
   "outputs": [],
   "source": [
    "mri_all=merge(sbj, mri_all, by='subjectkey', all.x=T)"
   ]
  },
  {
   "cell_type": "markdown",
   "metadata": {},
   "source": [
    "#  Predict based on global measures - GMV, WMV, sGMV, Ventricles"
   ]
  },
  {
   "cell_type": "markdown",
   "metadata": {},
   "source": [
    "## Create dataframes only with necessary data"
   ]
  },
  {
   "cell_type": "code",
   "execution_count": null,
   "metadata": {},
   "outputs": [],
   "source": [
    "PING_global=dplyr::select(All_data, Age, \n",
    "                          MRI_cort_vol.ctx.total, \n",
    "                          MRI_cort_thick.ctx.mean,\n",
    "                          MRI_subcort_vol.IntracranialVolume)\n",
    "\n",
    "for (i in 2:4) {\n",
    "    \n",
    "    PING_global[[i]]=resid(lm(PING_global[[i]] ~ factor(All_data$Gender, ordered=F) + \n",
    "                              factor(All_data$DeviceSerialNumber, ordered=F) + \n",
    "                              factor(All_data$FDH_3_Household_Income, ordered=F) + \n",
    "                              factor(All_data$FDH_Guardian_1_Edu, ordered=F) + \n",
    "                              factor(All_data$FDH_Guardian_2_Edu, ordered=F) +\n",
    "                              factor(All_data$FDH_Highest_Education, ordered=F), \n",
    "                              na.action=na.exclude)) \n",
    "}\n",
    "\n",
    "PING_global$MRI_cort_vol.ctx.total=PING_global$MRI_cort_vol.ctx.total/All_data$MRI_subcort_vol.IntracranialVolume\n",
    "\n",
    "PING_global=na.omit(PING_global)\n",
    "\n",
    "ABCD_global=dplyr::select(mri_all, smri_vol_cdk_total, \n",
    "                          smri_thick_cdk_mean,\n",
    "                          smri_vol_scs_intracranialv)\n",
    "\n",
    "for (i in 1:3) {\n",
    "    \n",
    "    ABCD_global[[i]]=resid(lm(ABCD_global[[i]] ~ factor(ABCD$sex, ordered=F) + \n",
    "                              factor(ABCD$site_id_l, ordered=F) +\n",
    "                              factor(ABCD$demo_prnt_ed_v2, ordered=F) +\n",
    "                              factor(ABCD$demo_comb_income_v2, ordered=F) + \n",
    "                              factor(ABCD$demo_ed_v2, ordered=F) ,\n",
    "                              factor(ABCD$demo_prnt_marital_v2, ordered=F), \n",
    "                              na.action=na.exclude)) \n",
    "}\n",
    "\n",
    "ABCD_global$smri_vol_cdk_total=mri_all$smri_vol_cdk_total/mri_all$smri_vol_scs_intracranialv\n",
    "\n",
    "ABCD_global=cbind(ABCD$age_yrs, ABCD_global, ABCD$Z_corr_UKB)\n",
    "colnames(ABCD_global)=c(colnames(PING_global), 'BMIPRS')\n",
    "ABCD_global=na.omit(ABCD_global)"
   ]
  },
  {
   "cell_type": "code",
   "execution_count": null,
   "metadata": {},
   "outputs": [],
   "source": [
    "nrow(PING_global)"
   ]
  },
  {
   "cell_type": "markdown",
   "metadata": {},
   "source": [
    "## Use linear and quadratic terms"
   ]
  },
  {
   "cell_type": "code",
   "execution_count": null,
   "metadata": {},
   "outputs": [],
   "source": [
    "# Define training control\n",
    "set.seed(123) \n",
    "train.control <- trainControl(method = \"cv\", number = 10, p=0.8)\n",
    "\n",
    "#model_formula=as.formula(paste('Age ~',paste('poly(',colnames(PING_global[-1]),',2)',collapse = ' + ')))\n",
    "\n",
    "# Train the model\n",
    "#model <- train(model_formula, data = PING_global, method = \"lm\",\n",
    "              # trControl = train.control)\n",
    "\n",
    "model <- train(Age ~  MRI_cort_vol.ctx.total + \n",
    "                    MRI_cort_thick.ctx.mean , \n",
    "                    data = PING_global, method = \"lm\",\n",
    "                    trControl = train.control)\n",
    "\n",
    "\n",
    "# Summarize the results\n",
    "print(model)"
   ]
  },
  {
   "cell_type": "markdown",
   "metadata": {},
   "source": [
    "## Predict brain age in ABCD, calculate delta age and partially correlate with BMI-PRS correcting for chronological age"
   ]
  },
  {
   "cell_type": "code",
   "execution_count": null,
   "metadata": {},
   "outputs": [],
   "source": [
    "ABCD_global$dAge=predict(model, ABCD_global)-ABCD_global$Age\n",
    "\n",
    "summary(lmp(BMIPRS ~ dAge + \n",
    "            Age,\n",
    "            data=ABCD_global, maxIter = 10000, center=F))"
   ]
  },
  {
   "cell_type": "code",
   "execution_count": null,
   "metadata": {},
   "outputs": [],
   "source": [
    "tiff('/dagher/dagher11/filip/PRSOB/Figures/dAge_revision.tiff', width=20, height=10, units='cm', res=300)\n",
    "ggplot(data=ABCD_global, aes(x=dAge, y=BMIPRS)) + \n",
    "geom_point(alpha=0.5) + \n",
    "geom_smooth(method='lm', color='black') + \n",
    "theme_minimal() +\n",
    "xlab('Delta age') +\n",
    "ylab('BMI-PRS')\n",
    "dev.off()"
   ]
  },
  {
   "cell_type": "markdown",
   "metadata": {},
   "source": [
    "## Brain age using specific measures"
   ]
  },
  {
   "cell_type": "code",
   "execution_count": null,
   "metadata": {},
   "outputs": [],
   "source": [
    "CT_FS=dplyr::select(All_data,contains(\"MRI_cort_thick\")[1:66])\n",
    "CV_FS=dplyr::select(All_data,contains(\"MRI_cort_vol\")[1:66])\n",
    "FA_FS=dplyr::select(All_data,contains(\"DTI_fiber_FA.\")[1:37])"
   ]
  },
  {
   "cell_type": "code",
   "execution_count": null,
   "metadata": {},
   "outputs": [],
   "source": [
    "colnames(CT_FS)=c('l_bankssts','l_caudalanteriorcingulate','l_caudalmiddlefrontal','l_cuneus','l_entorhinal',\n",
    "                  'l_fusiform','l_inferiorparietal','l_inferiortemporal','l_isthmuscingulate','l_lateraloccipital',\n",
    "                  'l_lateralorbitofrontal','l_lingual','l_medialorbitofrontal','l_middletemporal','l_parahippocampal',\n",
    "                  'l_paracentral','l_parsopercularis','l_parsorbitalis','l_parstriangularis','l_pericalcarine',\n",
    "                  'l_postcentral','l_posteriorcingulate','l_precentral','l_precuneus','l_rostralanteriorcingulate',\n",
    "                  'l_rostralmiddlefrontal','l_superiorfrontal','l_superiorparietal','l_superiortemporal','l_supramarginal',\n",
    "                  'l_frontalpole','l_temporalpole','l_transversetemporal','r_bankssts','r_caudalanteriorcingulate',\n",
    "                  'r_caudalmiddlefrontal','r_cuneus','r_entorhinal','r_fusiform','r_inferiorparietal','r_inferiortemporal',\n",
    "                  'r_isthmuscingulate','r_lateraloccipital','r_lateralorbitofrontal','r_lingual','r_medialorbitofrontal',\n",
    "                  'r_middletemporal','r_parahippocampal','r_paracentral','r_parsopercularis','r_parsorbitalis',\n",
    "                  'r_parstriangularis','r_pericalcarine','r_postcentral','r_posteriorcingulate','r_precentral',\n",
    "                  'r_precuneus','r_rostralanteriorcingulate','r_rostralmiddlefrontal','r_superiorfrontal',\n",
    "                  'r_superiorparietal','r_superiortemporal','r_supramarginal','r_frontalpole','r_temporalpole',\n",
    "                  'r_transversetemporal')\n",
    "colnames(CT_FS)<-paste(colnames(CT_FS),\"CT\",sep=\"_\")\n",
    "CT_FS=scale(CT_FS)\n",
    "\n",
    "colnames(CV_FS)=c('l_bankssts','l_caudalanteriorcingulate','l_caudalmiddlefrontal','l_cuneus','l_entorhinal',\n",
    "                  'l_fusiform','l_inferiorparietal','l_inferiortemporal','l_isthmuscingulate','l_lateraloccipital',\n",
    "                  'l_lateralorbitofrontal','l_lingual','l_medialorbitofrontal','l_middletemporal','l_parahippocampal',\n",
    "                  'l_paracentral','l_parsopercularis','l_parsorbitalis','l_parstriangularis','l_pericalcarine',\n",
    "                  'l_postcentral','l_posteriorcingulate','l_precentral','l_precuneus','l_rostralanteriorcingulate',\n",
    "                  'l_rostralmiddlefrontal','l_superiorfrontal','l_superiorparietal','l_superiortemporal','l_supramarginal',\n",
    "                  'l_frontalpole','l_temporalpole','l_transversetemporal','r_bankssts','r_caudalanteriorcingulate',\n",
    "                  'r_caudalmiddlefrontal','r_cuneus','r_entorhinal','r_fusiform','r_inferiorparietal','r_inferiortemporal',\n",
    "                  'r_isthmuscingulate','r_lateraloccipital','r_lateralorbitofrontal','r_lingual','r_medialorbitofrontal',\n",
    "                  'r_middletemporal','r_parahippocampal','r_paracentral','r_parsopercularis','r_parsorbitalis',\n",
    "                  'r_parstriangularis','r_pericalcarine','r_postcentral','r_posteriorcingulate','r_precentral',\n",
    "                  'r_precuneus','r_rostralanteriorcingulate','r_rostralmiddlefrontal','r_superiorfrontal',\n",
    "                  'r_superiorparietal','r_superiortemporal','r_supramarginal','r_frontalpole','r_temporalpole',\n",
    "                  'r_transversetemporal')\n",
    "colnames(CV_FS)<-paste(colnames(CT_FS),\"CV\",sep=\"_\")\n",
    "CV_FS=CV_FS/All_data$MRI_subcort_vol.IntracranialVolume\n",
    "CV_FS=scale(CV_FS)"
   ]
  },
  {
   "cell_type": "code",
   "execution_count": null,
   "metadata": {},
   "outputs": [],
   "source": [
    "CT_CV=cbind(CT_FS,CV_FS,FA_FS,All_data$Age_At_IMGExam)\n",
    "colnames(CT_CV)=c(colnames(CT_CV[1:169]),'Age')\n",
    "CT_CV=na.omit(CT_CV)"
   ]
  },
  {
   "cell_type": "code",
   "execution_count": null,
   "metadata": {},
   "outputs": [],
   "source": [
    "CT_ABCD=dplyr::select(ABCD,contains(\"smri_thick_cdk\")[c(1:33, 35:67)])\n",
    "CV_ABCD=dplyr::select(ABCD,contains(\"smri_vol_cdk\")[c(1:33,35:67)])\n",
    "FA_ABCD=dplyr::select(ABCD, contains('dmri_dtifa_fiberat')[1:37])"
   ]
  },
  {
   "cell_type": "code",
   "execution_count": null,
   "metadata": {},
   "outputs": [],
   "source": [
    "colnames(CT_ABCD)=c('l_bankssts','l_caudalanteriorcingulate','l_caudalmiddlefrontal','l_cuneus','l_entorhinal',\n",
    "                  'l_fusiform','l_inferiorparietal','l_inferiortemporal','l_isthmuscingulate','l_lateraloccipital',\n",
    "                  'l_lateralorbitofrontal','l_lingual','l_medialorbitofrontal','l_middletemporal','l_parahippocampal',\n",
    "                  'l_paracentral','l_parsopercularis','l_parsorbitalis','l_parstriangularis','l_pericalcarine',\n",
    "                  'l_postcentral','l_posteriorcingulate','l_precentral','l_precuneus','l_rostralanteriorcingulate',\n",
    "                  'l_rostralmiddlefrontal','l_superiorfrontal','l_superiorparietal','l_superiortemporal','l_supramarginal',\n",
    "                  'l_frontalpole','l_temporalpole','l_transversetemporal','r_bankssts','r_caudalanteriorcingulate',\n",
    "                  'r_caudalmiddlefrontal','r_cuneus','r_entorhinal','r_fusiform','r_inferiorparietal','r_inferiortemporal',\n",
    "                  'r_isthmuscingulate','r_lateraloccipital','r_lateralorbitofrontal','r_lingual','r_medialorbitofrontal',\n",
    "                  'r_middletemporal','r_parahippocampal','r_paracentral','r_parsopercularis','r_parsorbitalis',\n",
    "                  'r_parstriangularis','r_pericalcarine','r_postcentral','r_posteriorcingulate','r_precentral',\n",
    "                  'r_precuneus','r_rostralanteriorcingulate','r_rostralmiddlefrontal','r_superiorfrontal',\n",
    "                  'r_superiorparietal','r_superiortemporal','r_supramarginal','r_frontalpole','r_temporalpole',\n",
    "                  'r_transversetemporal')\n",
    "colnames(CT_ABCD)<-paste(colnames(CT_ABCD),\"CT\",sep=\"_\")\n",
    "\n",
    "colnames(CV_ABCD)=c('l_bankssts','l_caudalanteriorcingulate','l_caudalmiddlefrontal','l_cuneus','l_entorhinal',\n",
    "                  'l_fusiform','l_inferiorparietal','l_inferiortemporal','l_isthmuscingulate','l_lateraloccipital',\n",
    "                  'l_lateralorbitofrontal','l_lingual','l_medialorbitofrontal','l_middletemporal','l_parahippocampal',\n",
    "                  'l_paracentral','l_parsopercularis','l_parsorbitalis','l_parstriangularis','l_pericalcarine',\n",
    "                  'l_postcentral','l_posteriorcingulate','l_precentral','l_precuneus','l_rostralanteriorcingulate',\n",
    "                  'l_rostralmiddlefrontal','l_superiorfrontal','l_superiorparietal','l_superiortemporal','l_supramarginal',\n",
    "                  'l_frontalpole','l_temporalpole','l_transversetemporal','r_bankssts','r_caudalanteriorcingulate',\n",
    "                  'r_caudalmiddlefrontal','r_cuneus','r_entorhinal','r_fusiform','r_inferiorparietal','r_inferiortemporal',\n",
    "                  'r_isthmuscingulate','r_lateraloccipital','r_lateralorbitofrontal','r_lingual','r_medialorbitofrontal',\n",
    "                  'r_middletemporal','r_parahippocampal','r_paracentral','r_parsopercularis','r_parsorbitalis',\n",
    "                  'r_parstriangularis','r_pericalcarine','r_postcentral','r_posteriorcingulate','r_precentral',\n",
    "                  'r_precuneus', 'r_rostralanteriorcingulate','r_rostralmiddlefrontal','r_superiorfrontal',\n",
    "                  'r_superiorparietal','r_superiortemporal','r_supramarginal','r_frontalpole','r_temporalpole',\n",
    "                  'r_transversetemporal')\n",
    "colnames(CV_ABCD)<-paste(colnames(CT_ABCD),\"CV\",sep=\"_\")"
   ]
  },
  {
   "cell_type": "code",
   "execution_count": null,
   "metadata": {},
   "outputs": [],
   "source": [
    "CT_CV_ABCD=cbind(CT_ABCD, CV_ABCD, FA_ABCD, ABCD$age)\n",
    "colnames(CT_CV_ABCD)=c(colnames(CT_CV_ABCD[1:132]),colnames(FA_FS),'Age')\n"
   ]
  },
  {
   "cell_type": "code",
   "execution_count": null,
   "metadata": {},
   "outputs": [],
   "source": [
    "#CT_CV=CT_CV[,c(1:66,170)] #only CT\n",
    "CT_CV=CT_CV[,c(1:132,170)] #only CV\n",
    "#CT_CV=CT_CV[,c(6, 11, 15, 16, 19, 22, 23, 26, 30, 35, 42, 47, 49, 56, 60, 67)]\n",
    "CT_CV=CT_CV[,c(35, 37, 32, 41, 11+66, 22+66, 23+66, 27+66, 35+66, 36+66, 38+66, 41+66, 44+66, 56+66, 59+66, 60+66, 67+66)]\n",
    "\n",
    "#model_formula=as.formula(paste('Age ~',paste('poly(',colnames(CT_CV[1:14]),',2)',collapse = ' + ')))\n",
    "\n",
    "# Train the model\n",
    "#model <- train(model_formula, data = CT_CV, method = \"lm\",\n",
    "#               trControl = train.control)\n",
    "\n",
    "\n",
    "\n",
    "# Define training control\n",
    "set.seed(123) \n",
    "train.control <- trainControl(method = \"cv\", number = 10)\n",
    "# Train the model\n",
    "model <- train(Age ~ ., data = CT_CV, method = \"lm\",\n",
    "               trControl = train.control)\n",
    "# Summarize the results\n",
    "print(model)"
   ]
  },
  {
   "cell_type": "code",
   "execution_count": null,
   "metadata": {},
   "outputs": [],
   "source": [
    "summary(model)"
   ]
  },
  {
   "cell_type": "code",
   "execution_count": null,
   "metadata": {},
   "outputs": [],
   "source": [
    "CT_CV_ABCD$dAge=predict(model, CT_CV_ABCD)-CT_CV_ABCD$Age"
   ]
  },
  {
   "cell_type": "code",
   "execution_count": null,
   "metadata": {},
   "outputs": [],
   "source": [
    "CT_CV_ABCD_Z=cbind(CT_CV_ABCD, ABCD$Z_corr_UKB)\n",
    "colnames(CT_CV_ABCD_Z)=c(colnames(CT_CV_ABCD), 'BMIPRS')"
   ]
  },
  {
   "cell_type": "code",
   "execution_count": null,
   "metadata": {},
   "outputs": [],
   "source": [
    "library(ppcor)"
   ]
  },
  {
   "cell_type": "code",
   "execution_count": null,
   "metadata": {},
   "outputs": [],
   "source": [
    "pcor.test(CT_CV_ABCD_Z$BMIPRS, CT_CV_ABCD_Z$dAge, CT_CV_ABCD_Z$Age, method='pearson')"
   ]
  },
  {
   "cell_type": "code",
   "execution_count": null,
   "metadata": {},
   "outputs": [],
   "source": []
  }
 ],
 "metadata": {
  "kernelspec": {
   "display_name": "R",
   "language": "R",
   "name": "ir"
  },
  "language_info": {
   "codemirror_mode": "r",
   "file_extension": ".r",
   "mimetype": "text/x-r-source",
   "name": "R",
   "pygments_lexer": "r",
   "version": "4.1.1"
  }
 },
 "nbformat": 4,
 "nbformat_minor": 2
}
