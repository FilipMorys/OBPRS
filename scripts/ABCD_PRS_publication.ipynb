{
 "cells": [
  {
   "cell_type": "code",
   "execution_count": null,
   "metadata": {},
   "outputs": [],
   "source": [
    "library(ppcor)\n",
    "#install.packages('lmPerm')\n",
    "library(lmPerm)\n",
    "library(psych)\n",
    "library(car)\n",
    "library(ggplot2)\n",
    "library(lme4)\n",
    "#library(mediation)\n",
    "library(caret)\n",
    "#library(gbm)\n",
    "#library(party)\n",
    "#library(Metrics)\n",
    "#install.packages(\"wesanderson\")\n",
    "#library(wesanderson)\n",
    "#library(gtools)\n",
    "#library(interactions)\n",
    "#install.packages('ggstance')\n",
    "#library(ggstance)\n",
    "#install.packages('elasticnet')\n",
    "#library(elasticnet)\n",
    "#install.packages('kernlab')\n",
    "#library(kernlab)\n",
    "#install.packages('e1071')\n",
    "#library(e1071)\n",
    "#install.packages('MatchIt')\n",
    "#library(MatchIt)\n",
    "library(dplyr)\n",
    "#library(ukbtools)\n",
    "#library(mediation)\n",
    "library(lavaan)\n",
    "#install.packages('MissMech')\n",
    "#library(semTools)\n",
    "#library(MissMech)\n",
    "#install.packages('fsbrain')\n",
    "#library(fsbrain)\n",
    "#install.packages('ipw')\n",
    "#library(ipw)\n",
    "#install.packages('episensr')\n",
    "#install.packages('measurements')\n",
    "#library(measurements)\n",
    "#library(tidyr)\n",
    "#library(optimx)\n",
    "#install.packages('devtools')\n",
    "#library(devtools)\n",
    "#library(reshape)\n",
    "library(childsds)\n",
    "library(stringr)"
   ]
  },
  {
   "cell_type": "markdown",
   "metadata": {},
   "source": [
    "## Read the data"
   ]
  },
  {
   "cell_type": "code",
   "execution_count": null,
   "metadata": {},
   "outputs": [],
   "source": [
    "ABCD_longitudinal=read.table('/dagher/dagher11/filip/PRSOB/data/ABCD_base_fup1_wide.csv',sep=',',dec='.', header=T)\n",
    "ABCD=read.table('/dagher/dagher11/filip/PRSOB/data/ABCD_base_fup1_long.csv',sep=',',dec='.', header=T)"
   ]
  },
  {
   "cell_type": "code",
   "execution_count": null,
   "metadata": {},
   "outputs": [],
   "source": [
    "ABCD_longitudinal$deltaVol=ABCD_longitudinal$H_site_smri_vol_cdk_total.y-ABCD_longitudinal$H_site_smri_vol_cdk_total.x\n",
    "ABCD_longitudinal$deltaThick=ABCD_longitudinal$H_site_smri_thick_cdk_mean.y-ABCD_longitudinal$H_site_smri_thick_cdk_mean.x\n",
    "ABCD_longitudinal$deltaSA=ABCD_longitudinal$H_site_smri_area_cdk_total.y-ABCD_longitudinal$H_site_smri_area_cdk_total.x"
   ]
  },
  {
   "cell_type": "code",
   "execution_count": null,
   "metadata": {},
   "outputs": [],
   "source": [
    "ABCD=merge(ABCD, dplyr::select(ABCD_longitudinal, subjectkey, deltaBMI_SD, deltaVol, deltaThick, deltaSA), all.x=T)"
   ]
  },
  {
   "cell_type": "code",
   "execution_count": null,
   "metadata": {},
   "outputs": [],
   "source": [
    "PCs=read.table('/dagher/dagher11/filip/Downloads/ABCD_pre-impute.eigenvec', header=T)"
   ]
  },
  {
   "cell_type": "markdown",
   "metadata": {},
   "source": [
    "## Remove duplicates"
   ]
  },
  {
   "cell_type": "code",
   "execution_count": null,
   "metadata": {},
   "outputs": [],
   "source": [
    "ABCD=ABCD[!duplicated(ABCD$subjectkey),]"
   ]
  },
  {
   "cell_type": "code",
   "execution_count": null,
   "metadata": {},
   "outputs": [],
   "source": [
    "ABCD=subset(ABCD, ABCD$demo_race_a_p___10==1)"
   ]
  },
  {
   "cell_type": "markdown",
   "metadata": {},
   "source": [
    "## Remove all participants who failed WM QC for all sample consistency"
   ]
  },
  {
   "cell_type": "code",
   "execution_count": null,
   "metadata": {},
   "outputs": [],
   "source": [
    "ABCD=subset(ABCD, ABCD$dmri_dti_postqc_qc==1 | is.na(ABCD$dmri_dti_postqc_qc))"
   ]
  },
  {
   "cell_type": "markdown",
   "metadata": {},
   "source": [
    "## Read definitions"
   ]
  },
  {
   "cell_type": "code",
   "execution_count": null,
   "metadata": {},
   "outputs": [],
   "source": [
    "aliases=read.table('/dagher/dagher11/filip/ABCD_data/abcd_smrip101_definitions.csv',quote='\"', header=T, sep=',')\n",
    "aliases2=read.table('/dagher/dagher11/filip/ABCD_data/abcd_smrip201_definitions.csv',quote='\"', header=T, sep=',')"
   ]
  },
  {
   "cell_type": "code",
   "execution_count": null,
   "metadata": {},
   "outputs": [],
   "source": [
    "ABCD=ABCD[complete.cases(ABCD$H_dmri_dtifa_fiberat_fxrh),]"
   ]
  },
  {
   "cell_type": "code",
   "execution_count": null,
   "metadata": {},
   "outputs": [],
   "source": [
    "new_PRS=read.table('/dagher/dagher11/filip/Downloads/BMI_PRS_new.csv', header=T, sep=',')\n",
    "colnames(new_PRS)=c( 'X', 'FID' ,'IID' ,'PRS', 'Z_UKB')"
   ]
  },
  {
   "cell_type": "code",
   "execution_count": null,
   "metadata": {},
   "outputs": [],
   "source": [
    "ABCD=merge(ABCD, PCs, by.x='subjectkey', by.y='IID', all.x=T)\n",
    "ABCD=merge(ABCD, new_PRS, by.x='subjectkey', by.y='IID', all.x=T)"
   ]
  },
  {
   "cell_type": "markdown",
   "metadata": {},
   "source": [
    "## Read in ADI data"
   ]
  },
  {
   "cell_type": "code",
   "execution_count": null,
   "metadata": {},
   "outputs": [],
   "source": [
    "data_list=list()\n",
    "\n",
    "files=c('abcd_rhds01.txt')\n",
    "\n",
    "for (i in 1:length(files)){\n",
    "    data = readLines(paste(\"/dagher/dagher9/filip/ABCD/Package_1203460/\",files[i],sep=''))\n",
    "    skip_second = data[-2]\n",
    "    data = read.csv(textConnection(skip_second), header = TRUE, stringsAsFactors = FALSE, sep='\\t')\n",
    "    drops <- c(\"dataset_id\", \"interview_date\",'collection_id','src_subject_id')\n",
    "    data = data[ , !(names(data) %in% drops)]    \n",
    "    data_list[[i]]=data\n",
    "}\n",
    "\n"
   ]
  },
  {
   "cell_type": "code",
   "execution_count": null,
   "metadata": {},
   "outputs": [],
   "source": [
    "data_list[[1]]=data_list[[1]][data_list[[1]]$eventname=='baseline_year_1_arm_1',]"
   ]
  },
  {
   "cell_type": "code",
   "execution_count": null,
   "metadata": {},
   "outputs": [],
   "source": [
    "ABCD=merge((ABCD), dplyr::select(data_list[[1]], subjectkey, reshist_addr1_coi_z_ed_nat,\n",
    "                             reshist_addr1_coi_z_se_nat,\n",
    "                             reshist_addr1_coi_z_he_nat), by='subjectkey', all.x=T)"
   ]
  },
  {
   "cell_type": "markdown",
   "metadata": {},
   "source": [
    "## Correct PRS for PCs"
   ]
  },
  {
   "cell_type": "code",
   "execution_count": null,
   "metadata": {},
   "outputs": [],
   "source": [
    "ABCD$Z_corr=resid(lm(Z ~ PC1 + PC2 + PC3 + PC4 + PC5 + PC6 + PC7 + Pc8 + PC9 + PC10 + PC11 + PC12 + PC13 +\n",
    "                     PC14 + PC15 + PC16 + PC17 + PC18 + PC19 + PC20, \n",
    "                     data=ABCD, na.action=na.exclude))\n",
    "\n",
    "ABCD$Z_corr_UKB=resid(lm(Z_UKB ~ PC1 + PC2 + PC3 + PC4 + PC5 + PC6 + PC7 + Pc8 + PC9 + PC10 + PC11 + PC12 + PC13 +\n",
    "                     PC14 + PC15 + PC16 + PC17 + PC18 + PC19 + PC20, \n",
    "                     data=ABCD, na.action=na.exclude))"
   ]
  },
  {
   "cell_type": "code",
   "execution_count": null,
   "metadata": {},
   "outputs": [],
   "source": [
    "nrow(ABCD)"
   ]
  },
  {
   "cell_type": "markdown",
   "metadata": {},
   "source": [
    "## Descriptive statistics of the sample"
   ]
  },
  {
   "cell_type": "code",
   "execution_count": null,
   "metadata": {},
   "outputs": [],
   "source": [
    "describe(ABCD$age_yrs)\n",
    "describe(ABCD$BMI)\n",
    "describe(ABCD$BMI_SD)\n",
    "describe(ABCD$weight_kg)\n",
    "describe(ABCD$weight_SD)\n",
    "table(ABCD$sex)"
   ]
  },
  {
   "cell_type": "markdown",
   "metadata": {},
   "source": [
    "## BMI-PRS and BMI SD corelation"
   ]
  },
  {
   "cell_type": "code",
   "execution_count": null,
   "metadata": {},
   "outputs": [],
   "source": [
    "summary((lm(ABCD$BMI_SD ~ PC1 + PC2 + PC3 + PC4 + PC5 + PC6 + PC7 + Pc8 + PC9 + PC10 + PC11 + PC12 + PC13 +\n",
    "           PC14 + PC15 + PC16 + PC17 + PC18 + PC19 + PC20 + site_id_l + reshist_addr1_coi_z_ed_nat +\n",
    "           reshist_addr1_coi_z_se_nat + reshist_addr1_coi_z_he_nat +\n",
    "           interview_age + interview_age + interview_age*sex , data=ABCD)))\n",
    "\n",
    "summary(lm(ABCD$BMI_SD ~ Z_UKB + PC1 + PC2 + PC3 + PC4 + PC5 + PC6 + PC7 + Pc8 + PC9 + PC10 + PC11 + PC12 + PC13 +\n",
    "           PC14 + PC15 + PC16 + PC17 + PC18 + PC19 + PC20 + site_id_l + reshist_addr1_coi_z_ed_nat +\n",
    "           reshist_addr1_coi_z_se_nat + reshist_addr1_coi_z_he_nat +\n",
    "           interview_age + interview_age + interview_age*sex, data=ABCD))"
   ]
  },
  {
   "cell_type": "markdown",
   "metadata": {},
   "source": [
    "# Figure 1"
   ]
  },
  {
   "cell_type": "code",
   "execution_count": null,
   "metadata": {},
   "outputs": [],
   "source": [
    "std_mean <- function(x) sd(x)/sqrt(length(x))\n",
    "\n",
    "ABCD_sum = ABCD %>%  group_by(group = cut(Z_UKB, breaks = seq(-4.5, 4.5, 0.5))) %>%\n",
    "  summarise(Num = n(), mean = (mean(BMI_SD,na.rm=TRUE)), se=std_mean(BMI_SD))\n",
    "\n"
   ]
  },
  {
   "cell_type": "code",
   "execution_count": null,
   "metadata": {},
   "outputs": [],
   "source": [
    "col_graph='cadetblue'\n",
    "\n",
    "#tiff('/dagher/dagher11/filip/PRSOB/Figures/BMI_SDS_plot.tiff', \n",
    "#     width=15, height=15, units='cm', res=300)\n",
    "fig1a=ggplot() +\n",
    "geom_bar(mapping=aes(x=ABCD_sum$group, y=ABCD_sum$Num), stat='identity', fill=col_graph, color=col_graph) +\n",
    "geom_point(mapping=aes(x=ABCD_sum$group, y=ABCD_sum$mean*400)) +\n",
    "geom_errorbar(data=ABCD_sum, mapping=aes(x=group, y=mean*400, ymin=mean*400-se*400, ymax=mean*400+se*400), \n",
    "              width=.6,position=position_dodge(.9)) +\n",
    "geom_smooth(data=ABCD_sum, mapping=aes(x=as.numeric(group), y=mean*400), method='lm', color='black', se=F, \n",
    "            size=0.5) +\n",
    "scale_y_continuous(name='Number of individuals', breaks=c(0, 100, 200, 300, 400, 500, 600, 700, 800), \n",
    "                   sec.axis = sec_axis(~./300, name = \"BMI SDS\", \n",
    "                                       breaks=c(-2.5, -2, -1.5, -1, -0.5, 0, 0.5, 1, 1.5, 2, 2.5))) +\n",
    "theme_minimal() +\n",
    "theme(axis.text.x = element_text(angle = 90, vjust = 0.5, hjust=1, size=12), panel.grid.minor = element_blank(),\n",
    "     panel.grid.major = element_blank()) +\n",
    "scale_x_discrete(name='BMI-PRS z-score') \n",
    "\n",
    "#dev.off()\n",
    "  #geom_point(aes(y=BMI_SD))\n",
    "  #scale_y_continuous(name=\"cyl\", sec.axis=sec_axis(~./scaleFactor, name=\"hp\"))\n",
    "\n",
    "ABCD_plot1b=select(ABCD, BMI_SD, site_id_l)\n",
    "\n",
    "ABCD_plot1b=ABCD_plot1b %>%\n",
    "  group_by(site_id_l) %>%\n",
    "  summarise(\n",
    "    mean = mean(BMI_SD),\n",
    "    sd = sd(BMI_SD),\n",
    "    n = n(),\n",
    "    se = sd / n\n",
    "  ) \n",
    "\n",
    "  fig1b=ggplot(data=ABCD_plot1b, aes(x = site_id_l, y = mean)) +\n",
    "  geom_bar(position = position_dodge(), stat='identity', fill=col_graph, color=col_graph) +\n",
    "  geom_errorbar(\n",
    "    aes(ymin = mean - se, ymax = mean + se), \n",
    "    position = position_dodge2(padding = 0.5)\n",
    "  ) +\n",
    "  labs(\n",
    "    title = \"\"\n",
    "  ) + theme_minimal() + ylab('BMI SDS') + xlab('Site') +\n",
    "    theme(axis.text.x = element_text(size = 12, angle = 0), panel.grid.minor = element_blank(),\n",
    "     panel.grid.major = element_blank()) +\n",
    "    scale_x_discrete(labels=c(\"site01\" = \"1\", \"site02\" = \"2\",\"site03\" = \"3\",\"site04\" = \"4\",\"site05\" = \"5\",\n",
    "                              \"site06\" = \"6\",\"site07\" = \"7\",\"site08\" = \"8\",\"site09\" = \"9\",\"site10\" = \"10\",\n",
    "                              \"site11\" = \"11\",\"site12\" = \"12\",\"site13\" = \"13\",\"site14\" = \"14\",\"site15\" = \"15\",\n",
    "                              \"site16\" = \"16\",\"site17\" = \"17\",\"site18\" = \"18\",\"site19\" = \"19\",\"site20\" = \"20\",\n",
    "                              \"site21\" = \"21\", 'site22'='22')) \n",
    "\n",
    "ABCD_plot1c=select(ABCD, Z_UKB, site_id_l)\n",
    "\n",
    "ABCD_plot1c=ABCD_plot1c %>%\n",
    "  group_by(site_id_l) %>%\n",
    "  summarise(\n",
    "    mean = mean(Z_UKB),\n",
    "    sd = sd(Z_UKB),\n",
    "    n = n(),\n",
    "    se = sd / n\n",
    "  )\n",
    "\n",
    "  fig1c=ggplot(data=ABCD_plot1c, aes(x = site_id_l, y = mean)) +\n",
    "  geom_bar(position = position_dodge(), stat='identity', fill=col_graph, color=col_graph) +\n",
    "  geom_errorbar(\n",
    "    aes(ymin = mean - se, ymax = mean + se), \n",
    "    position = position_dodge2(padding = 0.5)\n",
    "  ) +\n",
    "  labs(\n",
    "    title = \"\"\n",
    "  ) + theme_minimal() + ylab('BMI-PRS') + xlab('Site') +\n",
    "    theme(axis.text.x = element_text(size = 12, angle = 0), panel.grid.minor = element_blank(),\n",
    "     panel.grid.major = element_blank()) +\n",
    "    scale_x_discrete(labels=c(\"site01\" = \"1\", \"site02\" = \"2\",\"site03\" = \"3\",\"site04\" = \"4\",\"site05\" = \"5\",\n",
    "                              \"site06\" = \"6\",\"site07\" = \"7\",\"site08\" = \"8\",\"site09\" = \"9\",\"site10\" = \"10\",\n",
    "                              \"site11\" = \"11\",\"site12\" = \"12\",\"site13\" = \"13\",\"site14\" = \"14\",\"site15\" = \"15\",\n",
    "                              \"site16\" = \"16\",\"site17\" = \"17\",\"site18\" = \"18\",\"site19\" = \"19\",\"site20\" = \"20\",\n",
    "                              \"site21\" = \"21\", 'site22'='22')) \n",
    "\n",
    "\n",
    "ABCD_plot1d=select(ABCD, PC1, site_id_l)\n",
    "\n",
    "ABCD_plot1d=ABCD_plot1d %>%\n",
    "  group_by(site_id_l) %>%\n",
    "  summarise(\n",
    "    mean = mean(PC1),\n",
    "    sd = sd(PC1),\n",
    "    n = n(),\n",
    "    se = sd / n\n",
    "  )\n",
    "\n",
    "  fig1d=ggplot(data=ABCD_plot1d, aes(x = site_id_l, y = mean)) +\n",
    "  geom_bar(position = position_dodge(), stat='identity', fill=col_graph, color=col_graph) +\n",
    "  geom_errorbar(\n",
    "    aes(ymin = mean - se, ymax = mean + se), \n",
    "    position = position_dodge2(padding = 0.5)\n",
    "  ) +\n",
    "  labs(\n",
    "    title = \"\"\n",
    "  ) + theme_minimal() + ylab('Genetic principal component 1') + xlab('Site') +\n",
    "    theme(axis.text.x = element_text(size = 12, angle = 0), panel.grid.minor = element_blank(),\n",
    "     panel.grid.major = element_blank()) +\n",
    "    scale_x_discrete(labels=c(\"site01\" = \"1\", \"site02\" = \"2\",\"site03\" = \"3\",\"site04\" = \"4\",\"site05\" = \"5\",\n",
    "                              \"site06\" = \"6\",\"site07\" = \"7\",\"site08\" = \"8\",\"site09\" = \"9\",\"site10\" = \"10\",\n",
    "                              \"site11\" = \"11\",\"site12\" = \"12\",\"site13\" = \"13\",\"site14\" = \"14\",\"site15\" = \"15\",\n",
    "                              \"site16\" = \"16\",\"site17\" = \"17\",\"site18\" = \"18\",\"site19\" = \"19\",\"site20\" = \"20\",\n",
    "                              \"site21\" = \"21\", 'site22'='22')) \n"
   ]
  },
  {
   "cell_type": "code",
   "execution_count": null,
   "metadata": {},
   "outputs": [],
   "source": [
    "library('ggpubr')\n",
    "\n",
    "tiff('/dagher/dagher11/filip/PRSOB/Figures/Figure1.tiff', \n",
    "     width=30, height=30, units='cm', res=300)\n",
    "\n",
    "figure1 <- ggarrange(fig1a, fig1b, fig1c, fig1d,\n",
    "                    labels = c(\"a\", \"b\", \"c\", \"d\"),\n",
    "                    ncol = 2, nrow = 2)\n",
    "figure1\n",
    "\n",
    "dev.off()\n"
   ]
  },
  {
   "cell_type": "markdown",
   "metadata": {},
   "source": [
    "# SEM"
   ]
  },
  {
   "cell_type": "code",
   "execution_count": null,
   "metadata": {},
   "outputs": [],
   "source": [
    "cog=read.table('/dagher/dagher11/filip/PRSOB/data/abcd_execfunc.csv', header=T, sep=',', dec='.')\n",
    "colnames(cog)=c('subjectkey',colnames(cog)[2:ncol(cog)])\n",
    "ABCD=merge(ABCD, cog, by='subjectkey',all.x=T)"
   ]
  },
  {
   "cell_type": "code",
   "execution_count": null,
   "metadata": {},
   "outputs": [],
   "source": [
    "hdr <- read.table('/export01/data/fmorys/ABCD30/abcd_mhy02.txt', sep='\\t',header=T, quote='\"', stringsAsFactors = FALSE)\n",
    "inh3 <- read.table('/export01/data/fmorys/ABCD30/abcd_mhy02.txt', sep='\\t',header=F, quote='\"', skip = 2)\n",
    "colnames( inh3 ) <- colnames(hdr)\n",
    "inh3=subset(inh3, select=-c(sex, collection_title, study_cohort_name, dataset_id, interview_date, \n",
    "                          collection_id, src_subject_id, interview_age)) #Remove unnecessary columns for quicker merging further on\n",
    "inh3=inh3[inh3$eventname=='baseline_year_1_arm_1',]\n",
    "\n",
    "ABCD=merge(ABCD, inh3, by='subjectkey',all.x=T)\n",
    "\n",
    "ABCD$H_WM_FA=rowMeans(data.frame(ABCD$H_site_dmri_dtifa_fiberat_allfiblh, ABCD$H_site_dmri_dtifa_fiberat_allfibrh))\n"
   ]
  },
  {
   "cell_type": "code",
   "execution_count": null,
   "metadata": {},
   "outputs": [],
   "source": [
    "ABCD$H_site_smri_vol_cdk_total_PC=resid(lm(ABCD$H_site_smri_vol_cdk_total ~ ABCD$site_id_l + PC1 + PC2 + PC3 + PC4 + PC5 + PC6 + PC7 + Pc8 + PC9 + PC10 + PC11 + PC12 + PC13 +\n",
    "                     PC14 + PC15 + PC16 + PC17 + PC18 + PC19 + PC20, na.action=na.exclude, data=ABCD))\n",
    "ABCD$H_site_smri_thick_cdk_mean_PC=resid(lm(ABCD$H_site_smri_thick_cdk_mean ~ ABCD$site_id_l + PC1 + PC2 + PC3 + PC4 + PC5 + PC6 + PC7 + Pc8 + PC9 + PC10 + PC11 + PC12 + PC13 +\n",
    "                     PC14 + PC15 + PC16 + PC17 + PC18 + PC19 + PC20, na.action=na.exclude, data=ABCD))\n",
    "ABCD$H_WM_FA_PC=resid(lm(ABCD$H_WM_FA ~ ABCD$site_id_l + PC1 + PC2 + PC3 + PC4 + PC5 + PC6 + PC7 + Pc8 + PC9 + PC10 + PC11 + PC12 + PC13 +\n",
    "                     PC14 + PC15 + PC16 + PC17 + PC18 + PC19 + PC20, na.action=na.exclude, data=ABCD))\n",
    "ABCD$BMI_SD_site=resid(lm(ABCD$BMI_SD ~ ABCD$site_id_l + PC1 + PC2 + PC3 + PC4 + PC5 + PC6 + PC7 + Pc8 + PC9 + PC10 + PC11 + PC12 + PC13 +\n",
    "                     PC14 + PC15 + PC16 + PC17 + PC18 + PC19 + PC20, na.action=na.exclude, data=ABCD))\n",
    "ABCD$deltaBMI_SD_site=resid(lm(ABCD$deltaBMI_SD ~ ABCD$site_id_l + PC1 + PC2 + PC3 + PC4 + PC5 + PC6 + PC7 + Pc8 + PC9 + PC10 + PC11 + PC12 + PC13 +\n",
    "                     PC14 + PC15 + PC16 + PC17 + PC18 + PC19 + PC20 + BMI_SD_site, na.action=na.exclude, data=ABCD))\n",
    "ABCD$z.scores_site=resid(lm(ABCD$z.scores ~ ABCD$site_id_l + PC1 + PC2 + PC3 + PC4 + PC5 + PC6 + PC7 + Pc8 + PC9 + PC10 + PC11 + PC12 + PC13 +\n",
    "                     PC14 + PC15 + PC16 + PC17 + PC18 + PC19 + PC20, na.action=na.exclude, data=ABCD))\n",
    "ABCD$Z_corr_site=resid(lm(ABCD$Z_corr ~ ABCD$site_id_l, na.action=na.exclude))\n",
    "ABCD$Z_corr_UKB_site=resid(lm(ABCD$Z_corr_UKB ~ ABCD$site_id_l, na.action=na.exclude))\n",
    "ABCD$upps_y_ss_positive_urgency_site=resid(lm(ABCD$upps_y_ss_positive_urgency ~ ABCD$site_id_l + PC1 + PC2 + PC3 + PC4 + PC5 + PC6 + PC7 + Pc8 + PC9 + PC10 + PC11 + PC12 + PC13 +\n",
    "                     PC14 + PC15 + PC16 + PC17 + PC18 + PC19 + PC20, na.action=na.exclude, data=ABCD))\n",
    "ABCD$upps_y_ss_negative_urgency_site=resid(lm(ABCD$upps_y_ss_negative_urgency ~ ABCD$site_id_l + PC1 + PC2 + PC3 + PC4 + PC5 + PC6 + PC7 + Pc8 + PC9 + PC10 + PC11 + PC12 + PC13 +\n",
    "                     PC14 + PC15 + PC16 + PC17 + PC18 + PC19 + PC20, na.action=na.exclude, data=ABCD))"
   ]
  },
  {
   "cell_type": "code",
   "execution_count": null,
   "metadata": {},
   "outputs": [],
   "source": [
    "Lavaan_SEM=dplyr::select(ABCD, \n",
    "                         H_site_smri_vol_cdk_total_PC,\n",
    "                        H_site_smri_thick_cdk_mean_PC,\n",
    "                        H_WM_FA_PC,\n",
    "                        Z_corr_UKB_site,\n",
    "                        z.scores_site,\n",
    "                        upps_y_ss_positive_urgency_site,\n",
    "                        upps_y_ss_negative_urgency_site,\n",
    "                        BMI_SD_site,\n",
    "                        deltaBMI_SD_site,\n",
    "                        demo_comb_income_v2,\n",
    "                        demo_ed_v2,\n",
    "                        demo_prnt_marital_v2,\n",
    "                        demo_prnt_ed_v2,\n",
    "                        interview_age,\n",
    "                        sex)"
   ]
  },
  {
   "cell_type": "code",
   "execution_count": null,
   "metadata": {},
   "outputs": [],
   "source": [
    "for (i in 1:8) {\n",
    "    \n",
    "    Lavaan_SEM[[i]]=resid(lm(Lavaan_SEM[[i]] ~ interview_age + \n",
    "                              sex + \n",
    "                              factor(ABCD$demo_prnt_ed_v2, ordered=F) +\n",
    "                              factor(ABCD$demo_comb_income_v2, ordered=F) + \n",
    "                              factor(ABCD$demo_ed_v2, ordered=F) +\n",
    "                              factor(ABCD$demo_prnt_marital_v2, ordered=F), \n",
    "                              data=Lavaan_SEM, na.action=na.exclude))\n",
    "        \n",
    "    }\n",
    "        \n",
    "Lavaan_SEM$z.scores_site[is.na(Lavaan_SEM$z.scores_site)]=mean(Lavaan_SEM$z.scores_site, na.rm=T)   \n",
    "Lavaan_SEM$upps_y_ss_negative_urgency_site[is.na(Lavaan_SEM$upps_y_ss_negative_urgency_site)]=mean(Lavaan_SEM$upps_y_ss_negative_urgency_site, na.rm=T)        \n",
    "Lavaan_SEM$upps_y_ss_positive_urgency_site[is.na(Lavaan_SEM$upps_y_ss_positive_urgency_site)]=mean(Lavaan_SEM$upps_y_ss_positive_urgency_site, na.rm=T)        "
   ]
  },
  {
   "cell_type": "code",
   "execution_count": null,
   "metadata": {
    "scrolled": false
   },
   "outputs": [],
   "source": [
    "ABCD_SEM = '\n",
    "\n",
    "#regressions\n",
    "\n",
    "H_site_smri_vol_cdk_total_PC ~ Z_corr_UKB_site\n",
    "H_site_smri_thick_cdk_mean_PC ~ Z_corr_UKB_site \n",
    "H_WM_FA_PC ~ Z_corr_UKB_site \n",
    "\n",
    "z.scores_site ~  H_site_smri_vol_cdk_total_PC + H_site_smri_thick_cdk_mean_PC + H_WM_FA_PC \n",
    "upps_y_ss_positive_urgency_site ~  H_site_smri_vol_cdk_total_PC + H_site_smri_thick_cdk_mean_PC + H_WM_FA_PC  \n",
    "upps_y_ss_negative_urgency_site ~  H_site_smri_vol_cdk_total_PC + H_site_smri_thick_cdk_mean_PC + H_WM_FA_PC  \n",
    "\n",
    "deltaBMI_SD_site ~ z.scores_site + \n",
    "        upps_y_ss_positive_urgency_site + upps_y_ss_negative_urgency_site  \n",
    "\n",
    "#covariance\n",
    "H_site_smri_vol_cdk_total_PC ~~ H_site_smri_thick_cdk_mean_PC + H_WM_FA_PC\n",
    "H_site_smri_thick_cdk_mean_PC ~~ H_WM_FA_PC\n",
    "upps_y_ss_positive_urgency_site ~~ upps_y_ss_negative_urgency_site + z.scores_site\n",
    "upps_y_ss_negative_urgency_site ~~ z.scores_site\n",
    "\n",
    "\n",
    "'\n",
    "\n",
    "\n",
    "ABCD_SEM_model <- sem(ABCD_SEM, data=Lavaan_SEM, missing='listwise', se='robust.sem', estimator='ML')\n",
    "lavaan:::print.lavaan.summary(summary(ABCD_SEM_model, standardized=TRUE, fit.measures=TRUE))\n",
    "#fitmeasures(WMHOB_fit) #fit indices"
   ]
  },
  {
   "cell_type": "markdown",
   "metadata": {},
   "source": [
    "# Calculate follow-up stats - cortical volume + thickness"
   ]
  },
  {
   "cell_type": "code",
   "execution_count": null,
   "metadata": {
    "scrolled": true
   },
   "outputs": [],
   "source": [
    "Stats=matrix(nrow=length(c(grep('H_site_smri_vol_cdk',colnames(ABCD))[1:68])),ncol=6) # \n",
    "index=1\n",
    "\n",
    "for (i in c(grep('H_site_smri_vol_cdk',colnames(ABCD))[1:68])) { #\n",
    "  \n",
    "    out <- summary(lmp(as.numeric(ABCD[[i]]) ~\n",
    "                      ABCD$Z_UKB + PC1 + PC2 + PC3 + PC4 + PC5 + PC6 + PC7 + Pc8 + PC9 + PC10 + PC11 + PC12 + PC13 +\n",
    "                     PC14 + PC15 + PC16 + PC17 + PC18 + PC19 + PC20 +\n",
    "                      scale(ABCD$interview_age) + \n",
    "                      factor(ABCD$sex, ordered=F) + \n",
    "                      factor(ABCD$demo_prnt_ed_v2, ordered=F) +\n",
    "                      factor(ABCD$demo_comb_income_v2, ordered=F) + \n",
    "                      factor(ABCD$demo_ed_v2, ordered=F) +\n",
    "                      factor(ABCD$demo_prnt_marital_v2, ordered=F) + \n",
    "                              reshist_addr1_coi_z_ed_nat +\n",
    "                              reshist_addr1_coi_z_se_nat + \n",
    "                              reshist_addr1_coi_z_he_nat,\n",
    "                      #factor(ABCD$site_id_l,ordered=F), \n",
    "                                data=ABCD, maxIter = 10000, center=F ))\n",
    "    \n",
    "        out2 <- summary(lm(as.numeric(ABCD[[i]]) ~\n",
    "                      ABCD$Z_UKB + PC1 + PC2 + PC3 + PC4 + PC5 + PC6 + PC7 + Pc8 + PC9 + PC10 + PC11 + PC12 + PC13 +\n",
    "                     PC14 + PC15 + PC16 + PC17 + PC18 + PC19 + PC20 +\n",
    "                      scale(ABCD$interview_age) + \n",
    "                      factor(ABCD$sex, ordered=F) + \n",
    "                      factor(ABCD$demo_prnt_ed_v2, ordered=F) +\n",
    "                      factor(ABCD$demo_comb_income_v2, ordered=F) + \n",
    "                      factor(ABCD$demo_ed_v2, ordered=F) +\n",
    "                      factor(ABCD$demo_prnt_marital_v2, ordered=F) + \n",
    "                              reshist_addr1_coi_z_ed_nat +\n",
    "                              reshist_addr1_coi_z_se_nat + \n",
    "                              reshist_addr1_coi_z_he_nat,\n",
    "                      #factor(ABCD$site_id_l,ordered=F), \n",
    "                                data=ABCD))\n",
    "    \n",
    "    \n",
    "    name=unlist(strsplit(unlist(strsplit(as.character(aliases$Aliases[which(aliases$ElementName==gsub('H_site_','',colnames(ABCD)[i]))]),'_'))[4],'[.]'))[1]\n",
    "    hemi=unlist(strsplit(unlist(strsplit(unlist(strsplit(as.character(aliases$Aliases[which(aliases$ElementName==gsub('H_site_','',colnames(ABCD)[i]))]),'_'))[4],'[.]'))[2],','))[1]\n",
    "    \n",
    "    Stats[index,][1]=name#colnames(ABCD[i])\n",
    "    Stats[index,][2]=hemi\n",
    "    Stats[index,][3]=out$coefficients[2,1] # estimate\n",
    "    Stats[index,][4]=out$coefficients[2,3] # p-value\n",
    "    Stats[index,][5]=out2$coefficients[2,3] # t-value\n",
    "    Stats[index,][6]=colnames(ABCD[i])\n",
    "       \n",
    "     \n",
    "    index=index+1\n",
    "}\n",
    "\n",
    "Stats_adj=Stats\n",
    "Stats_adj=data.frame(Stats_adj)\n",
    "colnames(Stats_adj)=c('measure','hemi','estimate','p','t')\n",
    "Stats_adj[,4]=as.numeric(p.adjust(Stats_adj[,4], method = 'BH'))\n",
    "\n",
    "Stats_adj[Stats_adj[,4]<0.05,]\n",
    "\n",
    "write.table(Stats,'Stats_corr.csv', sep=\",\")"
   ]
  },
  {
   "cell_type": "code",
   "execution_count": null,
   "metadata": {
    "scrolled": true
   },
   "outputs": [],
   "source": [
    "Stats=matrix(nrow=length(c(grep('H_site_smri_thick_cdk',colnames(ABCD))[1:68])),ncol=6) # \n",
    "index=1\n",
    "\n",
    "for (i in c(grep('H_site_smri_thick_cdk',colnames(ABCD))[1:68])) { #\n",
    "  \n",
    "    out <- summary(lmp(as.numeric(ABCD[[i]]) ~\n",
    "                      ABCD$Z_UKB + PC1 + PC2 + PC3 + PC4 + PC5 + PC6 + PC7 + Pc8 + PC9 + PC10 + PC11 + PC12 + PC13 +\n",
    "                     PC14 + PC15 + PC16 + PC17 + PC18 + PC19 + PC20 +\n",
    "                      scale(ABCD$interview_age) + \n",
    "                      factor(ABCD$sex, ordered=F) + \n",
    "                      factor(ABCD$demo_prnt_ed_v2, ordered=F) +\n",
    "                      factor(ABCD$demo_comb_income_v2, ordered=F) + \n",
    "                      factor(ABCD$demo_ed_v2, ordered=F) +\n",
    "                      factor(ABCD$demo_prnt_marital_v2, ordered=F) + \n",
    "                              reshist_addr1_coi_z_ed_nat +\n",
    "                              reshist_addr1_coi_z_se_nat + \n",
    "                              reshist_addr1_coi_z_he_nat,\n",
    "                      #factor(ABCD$site_id_l,ordered=F), \n",
    "                                data=ABCD, maxIter = 10000, center=F ))\n",
    "    \n",
    "        out2 <- summary(lm(as.numeric(ABCD[[i]]) ~\n",
    "                      ABCD$Z_UKB + PC1 + PC2 + PC3 + PC4 + PC5 + PC6 + PC7 + Pc8 + PC9 + PC10 + PC11 + PC12 + PC13 +\n",
    "                     PC14 + PC15 + PC16 + PC17 + PC18 + PC19 + PC20 +\n",
    "                      scale(ABCD$interview_age) + \n",
    "                      factor(ABCD$sex, ordered=F) + \n",
    "                      factor(ABCD$demo_prnt_ed_v2, ordered=F) +\n",
    "                      factor(ABCD$demo_comb_income_v2, ordered=F) + \n",
    "                      factor(ABCD$demo_ed_v2, ordered=F) +\n",
    "                      factor(ABCD$demo_prnt_marital_v2, ordered=F) + \n",
    "                              reshist_addr1_coi_z_ed_nat +\n",
    "                              reshist_addr1_coi_z_se_nat + \n",
    "                              reshist_addr1_coi_z_he_nat,\n",
    "                      #factor(ABCD$site_id_l,ordered=F), \n",
    "                                data=ABCD))\n",
    "    \n",
    "    \n",
    "    name=unlist(strsplit(unlist(strsplit(as.character(aliases$Aliases[which(aliases$ElementName==gsub('H_site_','',colnames(ABCD)[i]))]),'_'))[4],'[.]'))[1]\n",
    "    hemi=unlist(strsplit(unlist(strsplit(unlist(strsplit(as.character(aliases$Aliases[which(aliases$ElementName==gsub('H_site_','',colnames(ABCD)[i]))]),'_'))[4],'[.]'))[2],','))[1]\n",
    "    \n",
    "    Stats[index,][1]=name#colnames(ABCD[i])\n",
    "    Stats[index,][2]=hemi\n",
    "    Stats[index,][3]=out$coefficients[2,1] # estimate\n",
    "    Stats[index,][4]=out$coefficients[2,3] # p-value\n",
    "    Stats[index,][5]=out2$coefficients[2,3] # t-value\n",
    "    Stats[index,][6]=colnames(ABCD[i])\n",
    "       \n",
    "     \n",
    "    index=index+1\n",
    "}\n",
    "\n",
    "Stats_adj=Stats\n",
    "Stats_adj=data.frame(Stats_adj)\n",
    "colnames(Stats_adj)=c('measure','hemi','estimate','p','t')\n",
    "Stats_adj[,4]=as.numeric(p.adjust(Stats_adj[,4], method = 'BH'))\n",
    "\n",
    "Stats_adj[Stats_adj[,4]<0.05,]\n",
    "\n",
    "write.table(Stats,'Stats_corr.csv', sep=\",\")"
   ]
  },
  {
   "cell_type": "markdown",
   "metadata": {},
   "source": [
    "# Mesulam analysis"
   ]
  },
  {
   "cell_type": "code",
   "execution_count": null,
   "metadata": {},
   "outputs": [],
   "source": [
    "library('effectsize')"
   ]
  },
  {
   "cell_type": "code",
   "execution_count": null,
   "metadata": {},
   "outputs": [],
   "source": [
    "Mesulam=read.table('/dagher/dagher11/filip/Downloads/Mesulam_dkt.csv',sep=';', header=F)\n",
    "colnames(Mesulam)=c('struct','class')\n",
    "Mesulam=Mesulam[!(Mesulam$struct=='unknown' | Mesulam$struct=='corpuscallosum'),]\n",
    "Mesulam\n",
    "#Mesulam=Mesulam[2:68,]\n",
    "\n",
    "#1 = paralimbic\n",
    "#2 = heteromodal\n",
    "#3 = unimodal\n",
    "#4 - idiotypic"
   ]
  },
  {
   "cell_type": "code",
   "execution_count": null,
   "metadata": {},
   "outputs": [],
   "source": [
    "volume=cbind(as.data.frame(cbind(ABCD[c(grep('H_site_smri_vol_cdk',colnames(ABCD))[1:68])])))"
   ]
  },
  {
   "cell_type": "code",
   "execution_count": null,
   "metadata": {
    "scrolled": true
   },
   "outputs": [],
   "source": [
    "Mes_stats=matrix(nrow=4, ncol=5)\n",
    "\n",
    "index=1\n",
    "\n",
    "for (i in 1:4) { #\n",
    "  \n",
    "    model <- (lm(rowSums(volume[Mesulam$class==i]) ~\n",
    "                      ABCD$Z_UKB + PC1 + PC2 + PC3 + PC4 + PC5 + PC6 + PC7 + Pc8 + PC9 + PC10 + PC11 + PC12 + PC13 +\n",
    "                     PC14 + PC15 + PC16 + PC17 + PC18 + PC19 + PC20  + site_id_l +\n",
    "                      scale(ABCD$interview_age) + \n",
    "                      factor(ABCD$sex, ordered=F) + \n",
    "                      factor(ABCD$demo_prnt_ed_v2, ordered=F) +\n",
    "                      factor(ABCD$demo_comb_income_v2, ordered=F) + \n",
    "                      factor(ABCD$demo_ed_v2, ordered=F) +\n",
    "                      factor(ABCD$demo_prnt_marital_v2, ordered=F),\n",
    "                      #factor(ABCD$mri_info_manufacturer,ordered=F), \n",
    "                                data=ABCD))\n",
    "    \n",
    "    modelperm <- (lmp(rowSums(volume[Mesulam$class==i]) ~\n",
    "                      ABCD$Z_UKB + PC1 + PC2 + PC3 + PC4 + PC5 + PC6 + PC7 + Pc8 + PC9 + PC10 + PC11 + PC12 + PC13 +\n",
    "                     PC14 + PC15 + PC16 + PC17 + PC18 + PC19 + PC20  + site_id_l +\n",
    "                      scale(ABCD$interview_age) + \n",
    "                      factor(ABCD$sex, ordered=F) + \n",
    "                      factor(ABCD$demo_prnt_ed_v2, ordered=F) +\n",
    "                      factor(ABCD$demo_comb_income_v2, ordered=F) + \n",
    "                      factor(ABCD$demo_ed_v2, ordered=F) +\n",
    "                      factor(ABCD$demo_prnt_marital_v2, ordered=F),\n",
    "                      #factor(ABCD$mri_info_manufacturer,ordered=F), \n",
    "                                data=ABCD, maxIter=10000, center=F))\n",
    "    \n",
    "    out=summary(model)\n",
    "    out2=summary(modelperm)\n",
    "    eta2_PRS=eta_squared(model)[1,2]\n",
    "    \n",
    "    \n",
    "    name=i\n",
    "    \n",
    "    Mes_stats[index,][1]=name#colnames(ABCD[i])\n",
    "    Mes_stats[index,][2]=eta2_PRS\n",
    "    Mes_stats[index,][3]=out$coefficients[2,1] # estimate\n",
    "    Mes_stats[index,][4]=out2$coefficients[2,3] # p-value\n",
    "    Mes_stats[index,][5]=out$coefficients[2,3] # t-value\n",
    "       \n",
    "     \n",
    "    index=index+1\n",
    "}\n",
    "\n",
    "Mes_stats_adj=Mes_stats\n",
    "Mes_stats_adj[,4]=as.numeric(p.adjust(Mes_stats_adj[,4], method = 'fdr'))\n",
    "Mes_stats_adj=data.frame(Mes_stats_adj)\n",
    "colnames(Mes_stats_adj)=c('measure','eta2','estimate','p','t')\n",
    "\n",
    "Mes_stats_adj[Mes_stats_adj[,4]<0.05,]"
   ]
  },
  {
   "cell_type": "code",
   "execution_count": null,
   "metadata": {},
   "outputs": [],
   "source": [
    "Mes_stats_adj"
   ]
  },
  {
   "cell_type": "code",
   "execution_count": null,
   "metadata": {},
   "outputs": [],
   "source": [
    "thickness=cbind(as.data.frame(cbind(ABCD[c(grep('H_site_smri_thick_cdk',colnames(ABCD))[1:68])])))"
   ]
  },
  {
   "cell_type": "code",
   "execution_count": null,
   "metadata": {
    "scrolled": true
   },
   "outputs": [],
   "source": [
    "Mes_stats=matrix(nrow=4, ncol=5)\n",
    "\n",
    "index=1\n",
    "\n",
    "for (i in 1:4) { #\n",
    "  \n",
    "    model <- (lm(rowMeans(thickness[Mesulam$class==i]) ~\n",
    "                      ABCD$Z_corr_UKB + site_id_l +\n",
    "                      scale(ABCD$interview_age) + \n",
    "                      factor(ABCD$sex, ordered=F) + \n",
    "                      factor(ABCD$demo_prnt_ed_v2, ordered=F) +\n",
    "                      factor(ABCD$demo_comb_income_v2, ordered=F) + \n",
    "                      factor(ABCD$demo_ed_v2, ordered=F) +\n",
    "                      factor(ABCD$demo_prnt_marital_v2, ordered=F),\n",
    "                      #factor(ABCD$mri_info_manufacturer,ordered=F), \n",
    "                                data=ABCD))\n",
    "    \n",
    "    modelperm <- (lmp(rowMeans(thickness[Mesulam$class==i]) ~\n",
    "                      ABCD$Z_corr_UKB + site_id_l +\n",
    "                      scale(ABCD$interview_age) + \n",
    "                      factor(ABCD$sex, ordered=F) + \n",
    "                      factor(ABCD$demo_prnt_ed_v2, ordered=F) +\n",
    "                      factor(ABCD$demo_comb_income_v2, ordered=F) + \n",
    "                      factor(ABCD$demo_ed_v2, ordered=F) +\n",
    "                      factor(ABCD$demo_prnt_marital_v2, ordered=F),\n",
    "                      #factor(ABCD$mri_info_manufacturer,ordered=F), \n",
    "                                data=ABCD, maxIter=10000, center=F))\n",
    "    \n",
    "    out=summary(model)\n",
    "    out2=summary(modelperm)\n",
    "    eta2_PRS=eta_squared(model)[1,2]\n",
    "    \n",
    "    \n",
    "    name=i\n",
    "    \n",
    "    Mes_stats[index,][1]=name#colnames(ABCD[i])\n",
    "    Mes_stats[index,][2]=eta2_PRS\n",
    "    Mes_stats[index,][3]=out$coefficients[2,1] # estimate\n",
    "    Mes_stats[index,][4]=out2$coefficients[2,3] # p-value\n",
    "    Mes_stats[index,][5]=out$coefficients[2,3] # t-value\n",
    "       \n",
    "     \n",
    "    index=index+1\n",
    "}\n",
    "\n",
    "Mes_stats_adj=Mes_stats\n",
    "Mes_stats_adj[,4]=as.numeric(p.adjust(Mes_stats_adj[,4], method = 'fdr'))\n",
    "Mes_stats_adj=data.frame(Mes_stats_adj)\n",
    "colnames(Mes_stats_adj)=c('measure','eta2','estimate','p','t')\n",
    "\n",
    "Mes_stats_adj"
   ]
  },
  {
   "cell_type": "markdown",
   "metadata": {},
   "source": [
    "# Other associations"
   ]
  },
  {
   "cell_type": "markdown",
   "metadata": {},
   "source": [
    "# Positive urgency - volume"
   ]
  },
  {
   "cell_type": "code",
   "execution_count": null,
   "metadata": {
    "scrolled": true
   },
   "outputs": [],
   "source": [
    "Stats=matrix(nrow=length(c(grep('H_site_smri_vol_cdk',colnames(ABCD))[1:68])),ncol=6) # \n",
    "index=1\n",
    "\n",
    "for (i in c(grep('H_site_smri_vol_cdk',colnames(ABCD))[1:68])) { #\n",
    "  \n",
    "    out <- summary(lmp(as.numeric(ABCD[[i]]) ~\n",
    "                      ABCD$upps_y_ss_positive_urgency + PC1 + PC2 + PC3 + PC4 + PC5 + PC6 + PC7 + Pc8 + PC9 + PC10 + PC11 + PC12 + PC13 +\n",
    "                     PC14 + PC15 + PC16 + PC17 + PC18 + PC19 + PC20 +\n",
    "                      scale(ABCD$interview_age) + \n",
    "                      factor(ABCD$sex, ordered=F) + \n",
    "                      factor(ABCD$demo_prnt_ed_v2, ordered=F) +\n",
    "                      factor(ABCD$demo_comb_income_v2, ordered=F) + \n",
    "                      factor(ABCD$demo_ed_v2, ordered=F) +\n",
    "                      factor(ABCD$demo_prnt_marital_v2, ordered=F),\n",
    "                      #factor(ABCD$site_id_l,ordered=F), \n",
    "                                data=ABCD, maxIter = 10000, center=F ))\n",
    "    \n",
    "        out2 <- summary(lm(as.numeric(ABCD[[i]]) ~\n",
    "                      ABCD$upps_y_ss_positive_urgency + PC1 + PC2 + PC3 + PC4 + PC5 + PC6 + PC7 + Pc8 + PC9 + PC10 + PC11 + PC12 + PC13 +\n",
    "                     PC14 + PC15 + PC16 + PC17 + PC18 + PC19 + PC20 +\n",
    "                      scale(ABCD$interview_age) + \n",
    "                      factor(ABCD$sex, ordered=F) + \n",
    "                      factor(ABCD$demo_prnt_ed_v2, ordered=F) +\n",
    "                      factor(ABCD$demo_comb_income_v2, ordered=F) + \n",
    "                      factor(ABCD$demo_ed_v2, ordered=F) +\n",
    "                      factor(ABCD$demo_prnt_marital_v2, ordered=F),\n",
    "                      #factor(ABCD$site_id_l,ordered=F), \n",
    "                                data=ABCD))\n",
    "    \n",
    "    \n",
    "    name=unlist(strsplit(unlist(strsplit(as.character(aliases$Aliases[which(aliases$ElementName==gsub('H_site_','',colnames(ABCD)[i]))]),'_'))[4],'[.]'))[1]\n",
    "    hemi=unlist(strsplit(unlist(strsplit(unlist(strsplit(as.character(aliases$Aliases[which(aliases$ElementName==gsub('H_site_','',colnames(ABCD)[i]))]),'_'))[4],'[.]'))[2],','))[1]\n",
    "    \n",
    "    Stats[index,][1]=name#colnames(ABCD[i])\n",
    "    Stats[index,][2]=hemi\n",
    "    Stats[index,][3]=out$coefficients[2,1] # estimate\n",
    "    Stats[index,][4]=out$coefficients[2,3] # p-value\n",
    "    Stats[index,][5]=out2$coefficients[2,3] # t-value\n",
    "    Stats[index,][6]=colnames(ABCD[i])\n",
    "       \n",
    "     \n",
    "    index=index+1\n",
    "}\n",
    "\n",
    "Stats_adj=Stats\n",
    "Stats_adj=data.frame(Stats_adj)\n",
    "colnames(Stats_adj)=c('measure','hemi','estimate','p','t')\n",
    "Stats_adj[,4]=as.numeric(p.adjust(Stats_adj[,4], method = 'BH'))\n",
    "\n",
    "Stats_adj[Stats_adj[,4]<0.05,]\n",
    "\n",
    "write.table(Stats,'Stats_corr_posurg.csv', sep=\",\")"
   ]
  },
  {
   "cell_type": "markdown",
   "metadata": {},
   "source": [
    "# Negative urgency - volume"
   ]
  },
  {
   "cell_type": "code",
   "execution_count": null,
   "metadata": {
    "scrolled": true
   },
   "outputs": [],
   "source": [
    "Stats=matrix(nrow=length(c(grep('H_site_smri_vol_cdk',colnames(ABCD))[1:68])),ncol=6) # \n",
    "index=1\n",
    "\n",
    "for (i in c(grep('H_site_smri_vol_cdk',colnames(ABCD))[1:68])) { #\n",
    "  \n",
    "    out <- summary(lmp(as.numeric(ABCD[[i]]) ~\n",
    "                      ABCD$upps_y_ss_negative_urgency + PC1 + PC2 + PC3 + PC4 + PC5 + PC6 + PC7 + Pc8 + PC9 + PC10 + PC11 + PC12 + PC13 +\n",
    "                     PC14 + PC15 + PC16 + PC17 + PC18 + PC19 + PC20 +\n",
    "                      scale(ABCD$interview_age) + \n",
    "                      factor(ABCD$sex, ordered=F) + \n",
    "                      factor(ABCD$demo_prnt_ed_v2, ordered=F) +\n",
    "                      factor(ABCD$demo_comb_income_v2, ordered=F) + \n",
    "                      factor(ABCD$demo_ed_v2, ordered=F) +\n",
    "                      factor(ABCD$demo_prnt_marital_v2, ordered=F),\n",
    "                      #factor(ABCD$site_id_l,ordered=F), \n",
    "                                data=ABCD, maxIter = 10000, center=F ))\n",
    "    \n",
    "        out2 <- summary(lm(as.numeric(ABCD[[i]]) ~\n",
    "                      ABCD$upps_y_ss_negative_urgency + PC1 + PC2 + PC3 + PC4 + PC5 + PC6 + PC7 + Pc8 + PC9 + PC10 + PC11 + PC12 + PC13 +\n",
    "                     PC14 + PC15 + PC16 + PC17 + PC18 + PC19 + PC20 +\n",
    "                      scale(ABCD$interview_age) + \n",
    "                      factor(ABCD$sex, ordered=F) + \n",
    "                      factor(ABCD$demo_prnt_ed_v2, ordered=F) +\n",
    "                      factor(ABCD$demo_comb_income_v2, ordered=F) + \n",
    "                      factor(ABCD$demo_ed_v2, ordered=F) +\n",
    "                      factor(ABCD$demo_prnt_marital_v2, ordered=F),\n",
    "                      #factor(ABCD$site_id_l,ordered=F), \n",
    "                                data=ABCD))\n",
    "    \n",
    "    \n",
    "    name=unlist(strsplit(unlist(strsplit(as.character(aliases$Aliases[which(aliases$ElementName==gsub('H_site_','',colnames(ABCD)[i]))]),'_'))[4],'[.]'))[1]\n",
    "    hemi=unlist(strsplit(unlist(strsplit(unlist(strsplit(as.character(aliases$Aliases[which(aliases$ElementName==gsub('H_site_','',colnames(ABCD)[i]))]),'_'))[4],'[.]'))[2],','))[1]\n",
    "    \n",
    "    Stats[index,][1]=name#colnames(ABCD[i])\n",
    "    Stats[index,][2]=hemi\n",
    "    Stats[index,][3]=out$coefficients[2,1] # estimate\n",
    "    Stats[index,][4]=out$coefficients[2,3] # p-value\n",
    "    Stats[index,][5]=out2$coefficients[2,3] # t-value\n",
    "    Stats[index,][6]=colnames(ABCD[i])\n",
    "       \n",
    "     \n",
    "    index=index+1\n",
    "}\n",
    "\n",
    "Stats_adj=Stats\n",
    "Stats_adj=data.frame(Stats_adj)\n",
    "colnames(Stats_adj)=c('measure','hemi','estimate','p','t')\n",
    "Stats_adj[,4]=as.numeric(p.adjust(Stats_adj[,4], method = 'BH'))\n",
    "\n",
    "Stats_adj[Stats_adj[,4]<0.05,]\n",
    "\n",
    "write.table(Stats,'Stats_corr_negurg.csv', sep=\",\")"
   ]
  },
  {
   "cell_type": "markdown",
   "metadata": {},
   "source": [
    "# Influence of ADI on PRS and BMI SDS"
   ]
  },
  {
   "cell_type": "code",
   "execution_count": null,
   "metadata": {},
   "outputs": [],
   "source": [
    "summary(lmp(ABCD$Z_corr_UKB ~ PC1 + PC2 + PC3 + PC4 + PC5 + PC6 + PC7 + Pc8 + PC9 + PC10 + PC11 + PC12 + PC13 +\n",
    "                     PC14 + PC15 + PC16 + PC17 + PC18 + PC19 + PC20 +\n",
    "                      scale(ABCD$interview_age) + \n",
    "                      factor(ABCD$sex, ordered=F) + \n",
    "                      factor(ABCD$demo_prnt_ed_v2, ordered=F) +\n",
    "                      factor(ABCD$demo_comb_income_v2, ordered=F) + \n",
    "                      factor(ABCD$demo_ed_v2, ordered=F) +\n",
    "                      factor(ABCD$demo_prnt_marital_v2, ordered=F) + \n",
    "                      reshist_addr1_coi_z_ed_nat +\n",
    "                      reshist_addr1_coi_z_se_nat +\n",
    "                      reshist_addr1_coi_z_he_nat, data=ABCD, maxIter = 10000, center=F))\n",
    "\n",
    "summary(lmp(ABCD$BMI_SD ~ PC1 + PC2 + PC3 + PC4 + PC5 + PC6 + PC7 + Pc8 + PC9 + PC10 + PC11 + PC12 + PC13 +\n",
    "                     PC14 + PC15 + PC16 + PC17 + PC18 + PC19 + PC20 +\n",
    "                      scale(ABCD$interview_age) + \n",
    "                      factor(ABCD$sex, ordered=F) + \n",
    "                      factor(ABCD$demo_prnt_ed_v2, ordered=F) +\n",
    "                      factor(ABCD$demo_comb_income_v2, ordered=F) + \n",
    "                      factor(ABCD$demo_ed_v2, ordered=F) +\n",
    "                      factor(ABCD$demo_prnt_marital_v2, ordered=F) + \n",
    "                      reshist_addr1_coi_z_ed_nat +\n",
    "                      reshist_addr1_coi_z_se_nat +\n",
    "                      reshist_addr1_coi_z_he_nat, data=ABCD, maxIter = 10000, center=F))"
   ]
  }
 ],
 "metadata": {
  "kernelspec": {
   "display_name": "R",
   "language": "R",
   "name": "ir"
  },
  "language_info": {
   "codemirror_mode": "r",
   "file_extension": ".r",
   "mimetype": "text/x-r-source",
   "name": "R",
   "pygments_lexer": "r",
   "version": "4.2.2"
  }
 },
 "nbformat": 4,
 "nbformat_minor": 2
}
